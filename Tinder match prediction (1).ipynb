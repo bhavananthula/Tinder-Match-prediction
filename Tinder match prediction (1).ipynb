{
 "cells": [
  {
   "cell_type": "code",
   "execution_count": 1,
   "id": "7500fe28",
   "metadata": {},
   "outputs": [
    {
     "name": "stdout",
     "output_type": "stream",
     "text": [
      "Requirement already satisfied: category_encoders in c:\\users\\user\\anaconda3\\lib\\site-packages (2.6.2)\n",
      "Requirement already satisfied: statsmodels>=0.9.0 in c:\\users\\user\\anaconda3\\lib\\site-packages (from category_encoders) (0.13.2)\n",
      "Requirement already satisfied: pandas>=1.0.5 in c:\\users\\user\\anaconda3\\lib\\site-packages (from category_encoders) (1.4.2)\n",
      "Requirement already satisfied: scikit-learn>=0.20.0 in c:\\users\\user\\anaconda3\\lib\\site-packages (from category_encoders) (1.0.2)\n",
      "Requirement already satisfied: scipy>=1.0.0 in c:\\users\\user\\anaconda3\\lib\\site-packages (from category_encoders) (1.7.3)\n",
      "Requirement already satisfied: numpy>=1.14.0 in c:\\users\\user\\anaconda3\\lib\\site-packages (from category_encoders) (1.21.5)\n",
      "Requirement already satisfied: patsy>=0.5.1 in c:\\users\\user\\anaconda3\\lib\\site-packages (from category_encoders) (0.5.2)\n",
      "Requirement already satisfied: pytz>=2020.1 in c:\\users\\user\\anaconda3\\lib\\site-packages (from pandas>=1.0.5->category_encoders) (2021.3)\n",
      "Requirement already satisfied: python-dateutil>=2.8.1 in c:\\users\\user\\anaconda3\\lib\\site-packages (from pandas>=1.0.5->category_encoders) (2.8.2)\n",
      "Requirement already satisfied: six in c:\\users\\user\\anaconda3\\lib\\site-packages (from patsy>=0.5.1->category_encoders) (1.16.0)\n",
      "Requirement already satisfied: threadpoolctl>=2.0.0 in c:\\users\\user\\anaconda3\\lib\\site-packages (from scikit-learn>=0.20.0->category_encoders) (2.2.0)\n",
      "Requirement already satisfied: joblib>=0.11 in c:\\users\\user\\anaconda3\\lib\\site-packages (from scikit-learn>=0.20.0->category_encoders) (1.1.0)\n",
      "Requirement already satisfied: packaging>=21.3 in c:\\users\\user\\anaconda3\\lib\\site-packages (from statsmodels>=0.9.0->category_encoders) (21.3)\n",
      "Requirement already satisfied: pyparsing!=3.0.5,>=2.0.2 in c:\\users\\user\\anaconda3\\lib\\site-packages (from packaging>=21.3->statsmodels>=0.9.0->category_encoders) (3.0.4)\n",
      "Note: you may need to restart the kernel to use updated packages.\n"
     ]
    }
   ],
   "source": [
    "pip install --upgrade category_encoders"
   ]
  },
  {
   "cell_type": "code",
   "execution_count": 2,
   "id": "d7c3ca75",
   "metadata": {},
   "outputs": [],
   "source": [
    "import numpy as np\n",
    "import pandas as pd\n",
    "import matplotlib.pyplot as plt\n",
    "import seaborn as sns\n",
    "sns.set_style(\"darkgrid\",\n",
    "\t\t\t{\"grid.color\": \".6\",\n",
    "\t\t\t\"grid.linestyle\": \":\"})\n",
    "import category_encoders as ce\n",
    "from sklearn.decomposition import TruncatedSVD\n",
    "from sklearn.feature_extraction.text import TfidfVectorizer\n",
    "from sklearn.metrics.pairwise import cosine_similarity\n"
   ]
  },
  {
   "cell_type": "code",
   "execution_count": 4,
   "id": "d8799d62",
   "metadata": {},
   "outputs": [],
   "source": [
    "# reading dataset using panda\n",
    "tinder_df = pd.read_csv(\"tinder_data.csv\")\n"
   ]
  },
  {
   "cell_type": "code",
   "execution_count": 5,
   "id": "c3c88b4b",
   "metadata": {},
   "outputs": [
    {
     "name": "stdout",
     "output_type": "stream",
     "text": [
      "(2001, 20)\n"
     ]
    }
   ],
   "source": [
    "# shape of the dataset\n",
    "print(tinder_df.shape)\n"
   ]
  },
  {
   "cell_type": "code",
   "execution_count": 6,
   "id": "57ca5b92",
   "metadata": {},
   "outputs": [
    {
     "name": "stdout",
     "output_type": "stream",
     "text": [
      "<class 'pandas.core.frame.DataFrame'>\n",
      "RangeIndex: 2001 entries, 0 to 2000\n",
      "Data columns (total 20 columns):\n",
      " #   Column               Non-Null Count  Dtype \n",
      "---  ------               --------------  ----- \n",
      " 0   user_id              2001 non-null   object\n",
      " 1   username             2001 non-null   object\n",
      " 2   age                  2001 non-null   int64 \n",
      " 3   status               2001 non-null   object\n",
      " 4   sex                  2001 non-null   object\n",
      " 5   orientation          2001 non-null   object\n",
      " 6   drinks               2001 non-null   object\n",
      " 7   drugs                2001 non-null   object\n",
      " 8   height               2001 non-null   int64 \n",
      " 9   job                  2001 non-null   object\n",
      " 10  location             2001 non-null   object\n",
      " 11  pets                 2001 non-null   object\n",
      " 12  smokes               2001 non-null   object\n",
      " 13  language             2001 non-null   object\n",
      " 14  new_languages        2001 non-null   object\n",
      " 15  body_profile         2001 non-null   object\n",
      " 16  education_level      2001 non-null   int64 \n",
      " 17  dropped_out          2001 non-null   object\n",
      " 18  bio                  2001 non-null   object\n",
      " 19  location_preference  2001 non-null   object\n",
      "dtypes: int64(3), object(17)\n",
      "memory usage: 312.8+ KB\n"
     ]
    }
   ],
   "source": [
    "# information about the dataset\n",
    "tinder_df.info()\n"
   ]
  },
  {
   "cell_type": "code",
   "execution_count": null,
   "id": "92ae967b",
   "metadata": {},
   "outputs": [],
   "source": [
    "# Number of unique element in the columns\n",
    "tinder_df.nunique()\n"
   ]
  },
  {
   "cell_type": "code",
   "execution_count": 7,
   "id": "4c2aeff4",
   "metadata": {},
   "outputs": [
    {
     "data": {
      "text/html": [
       "<div>\n",
       "<style scoped>\n",
       "    .dataframe tbody tr th:only-of-type {\n",
       "        vertical-align: middle;\n",
       "    }\n",
       "\n",
       "    .dataframe tbody tr th {\n",
       "        vertical-align: top;\n",
       "    }\n",
       "\n",
       "    .dataframe thead th {\n",
       "        text-align: right;\n",
       "    }\n",
       "</style>\n",
       "<table border=\"1\" class=\"dataframe\">\n",
       "  <thead>\n",
       "    <tr style=\"text-align: right;\">\n",
       "      <th></th>\n",
       "      <th>sex</th>\n",
       "      <th>drugs</th>\n",
       "      <th>unique_drug_count</th>\n",
       "    </tr>\n",
       "  </thead>\n",
       "  <tbody>\n",
       "    <tr>\n",
       "      <th>0</th>\n",
       "      <td>f</td>\n",
       "      <td>never</td>\n",
       "      <td>711</td>\n",
       "    </tr>\n",
       "    <tr>\n",
       "      <th>1</th>\n",
       "      <td>f</td>\n",
       "      <td>often</td>\n",
       "      <td>5</td>\n",
       "    </tr>\n",
       "    <tr>\n",
       "      <th>2</th>\n",
       "      <td>f</td>\n",
       "      <td>sometimes</td>\n",
       "      <td>146</td>\n",
       "    </tr>\n",
       "    <tr>\n",
       "      <th>3</th>\n",
       "      <td>m</td>\n",
       "      <td>never</td>\n",
       "      <td>875</td>\n",
       "    </tr>\n",
       "    <tr>\n",
       "      <th>4</th>\n",
       "      <td>m</td>\n",
       "      <td>often</td>\n",
       "      <td>13</td>\n",
       "    </tr>\n",
       "    <tr>\n",
       "      <th>5</th>\n",
       "      <td>m</td>\n",
       "      <td>sometimes</td>\n",
       "      <td>251</td>\n",
       "    </tr>\n",
       "  </tbody>\n",
       "</table>\n",
       "</div>"
      ],
      "text/plain": [
       "  sex      drugs  unique_drug_count\n",
       "0   f      never                711\n",
       "1   f      often                  5\n",
       "2   f  sometimes                146\n",
       "3   m      never                875\n",
       "4   m      often                 13\n",
       "5   m  sometimes                251"
      ]
     },
     "execution_count": 7,
     "metadata": {},
     "output_type": "execute_result"
    }
   ],
   "source": [
    "tinder_df.groupby(['sex', 'drugs'])['drugs'] \\\n",
    "\t.count() \\\n",
    "\t.reset_index(name='unique_drug_count')\n"
   ]
  },
  {
   "cell_type": "code",
   "execution_count": null,
   "id": "f0bb6995",
   "metadata": {},
   "outputs": [],
   "source": [
    "tinder_df.groupby(['new_languages', 'dropped_out']) \\\n",
    "\t\t\t['dropped_out'].count(). \\\n",
    "\t\t\treset_index(name='drop_out_people count')\n"
   ]
  },
  {
   "cell_type": "code",
   "execution_count": 8,
   "id": "723d4dc7",
   "metadata": {},
   "outputs": [
    {
     "data": {
      "text/plain": [
       "<AxesSubplot:xlabel='age', ylabel='Count'>"
      ]
     },
     "execution_count": 8,
     "metadata": {},
     "output_type": "execute_result"
    },
    {
     "data": {
      "image/png": "[encoded data removed]",
      "text/plain": [
       "<Figure size 432x288 with 1 Axes>"
      ]
     },
     "metadata": {},
     "output_type": "display_data"
    }
   ],
   "source": [
    "# distribution of age\n",
    "sns.histplot(tinder_df[\"age\"], kde=True)\n"
   ]
  },
  {
   "cell_type": "code",
   "execution_count": null,
   "id": "cd53e864",
   "metadata": {},
   "outputs": [],
   "source": [
    "# Distribution of height\n",
    "sns.histplot(tinder_df[\"height\"], kde=True)\n"
   ]
  },
  {
   "cell_type": "code",
   "execution_count": 9,
   "id": "fee26a6f",
   "metadata": {},
   "outputs": [
    {
     "data": {
      "image/png": "[encoded data removed]",
      "text/plain": [
       "<Figure size 432x432 with 1 Axes>"
      ]
     },
     "metadata": {},
     "output_type": "display_data"
    }
   ],
   "source": [
    "# Set the size of the figure to 10 inches\n",
    "# wide by 8 inches tall\n",
    "plt.figure(figsize=(6, 6))\n",
    "\n",
    "# Divide the data into categories\n",
    "bins = [18, 30, 40, 50, 60, 70]\n",
    "\n",
    "# Use the `cut` function to assign\n",
    "# each data point to a category\n",
    "categories = pd.cut(tinder_df[\"age\"], bins,\n",
    "\t\t\t\t\tlabels=[\"18-30\", \"30-40\",\n",
    "\t\t\t\t\t\t\t\"40-50\", \"50-60\", \"60-70\"])\n",
    "\n",
    "# Count the number of data points in each category\n",
    "counts = categories.value_counts()\n",
    "\n",
    "# Plot the data as a pie chart\n",
    "plt.pie(counts, labels=counts.index, autopct='%1.1f%%')\n",
    "plt.show()\n"
   ]
  },
  {
   "cell_type": "code",
   "execution_count": null,
   "id": "5771bca9",
   "metadata": {},
   "outputs": [],
   "source": [
    "plt.figure(figsize=(6, 6))\n",
    "sns.histplot(x=\"job\", data=tinder_df,\n",
    "\t\t\tcolor=\"coral\")\n",
    "\n",
    "# rotate x-axis labels vertically\n",
    "plt.xticks(rotation=90)\n",
    "plt.title(\"Distribution of job of each candidate\",\n",
    "\t\tfontsize=14)\n",
    "\n",
    "plt.xlabel(\"Job id\", fontsize=12)\n",
    "plt.ylabel(\"Count of people\", fontsize=12)\n",
    "\n",
    "plt.show()\n"
   ]
  },
  {
   "cell_type": "code",
   "execution_count": 10,
   "id": "893d42e0",
   "metadata": {},
   "outputs": [
    {
     "data": {
      "text/plain": [
       "array([ True])"
      ]
     },
     "execution_count": 10,
     "metadata": {},
     "output_type": "execute_result"
    }
   ],
   "source": [
    "# check if every row has a\n",
    "# common language as english\n",
    "tinder_df['language'].str.contains('english')\\\n",
    "\t.unique()\n"
   ]
  },
  {
   "cell_type": "code",
   "execution_count": 11,
   "id": "3566d301",
   "metadata": {},
   "outputs": [],
   "source": [
    "# count the number of languages in each row\n",
    "tinder_df['num_languages'] = tinder_df['language']\\\n",
    "\t.str.count(',') + 1\n",
    "tinder_df.drop([\"language\"], axis=1, inplace=True)\n"
   ]
  },
  {
   "cell_type": "code",
   "execution_count": 12,
   "id": "beb7bd81",
   "metadata": {},
   "outputs": [],
   "source": [
    "place_type_strength = {\n",
    "\t'anywhere': 1.0,\n",
    "\t'same state': 2.0,\n",
    "\t'same city': 2.5\n",
    "}\n",
    "\n",
    "tinder_df['location_preference'] = \\\n",
    "\ttinder_df['location_preference']\\\n",
    "\t.apply(lambda x: place_type_strength[x])\n"
   ]
  },
  {
   "cell_type": "code",
   "execution_count": 13,
   "id": "d8f0e9a2",
   "metadata": {},
   "outputs": [],
   "source": [
    "two_unique_values_column = {\n",
    "\t'sex': {'f': 1, 'm': 0},\n",
    "\t'dropped_out': {'no': 0, 'yes': 1}\n",
    "}\n",
    "\n",
    "tinder_df.replace(two_unique_values_column,\n",
    "\t\t\t\tinplace=True)\n"
   ]
  },
  {
   "cell_type": "code",
   "execution_count": 14,
   "id": "35f5ffb5",
   "metadata": {},
   "outputs": [],
   "source": [
    "status_type_strength = {\n",
    "\t'single': 2.0,\n",
    "\t'available': 2.0,\n",
    "\t'seeing someone': 1.0,\n",
    "\t'married': 1.0\n",
    "}\n",
    "tinder_df['status'] = tinder_df['status']\\\n",
    "\t.apply(lambda x:\n",
    "\t\tstatus_type_strength[x])\n"
   ]
  },
  {
   "cell_type": "code",
   "execution_count": 15,
   "id": "7f5d83e4",
   "metadata": {},
   "outputs": [],
   "source": [
    "from sklearn.preprocessing import LabelEncoder"
   ]
  },
  {
   "cell_type": "code",
   "execution_count": 16,
   "id": "acbe14b7",
   "metadata": {},
   "outputs": [],
   "source": [
    "# create a LabelEncoder object\n",
    "orientation_encoder = LabelEncoder()\n",
    "\n",
    "# fit the encoder on the orientation column\n",
    "orientation_encoder.fit(tinder_df['orientation'])\n",
    "\n",
    "# encode the orientation column using the fitted encoder\n",
    "tinder_df['orientation'] = orientation_encoder.\\\n",
    "\ttransform(tinder_df['orientation'])\n",
    "\n",
    "# Drop the existing orientation column\n",
    "tinder_df.drop(\"orientation\", axis=1, inplace=True)\n"
   ]
  },
  {
   "cell_type": "code",
   "execution_count": 17,
   "id": "79c3d873",
   "metadata": {},
   "outputs": [],
   "source": [
    "drinking_habit = {\n",
    "\t'socially': 'sometimes',\n",
    "\t'rarely': 'sometimes',\n",
    "\t'not at all': 'do not drink',\n",
    "\t'often': 'drinks often',\n",
    "\t'very often': 'drinks often',\n",
    "\t'desperately': 'drinks often'\n",
    "}\n",
    "tinder_df['drinks'] = tinder_df['drinks']\\\n",
    "\t.apply(lambda x:\n",
    "\t\tdrinking_habit[x])\n",
    "# create a LabelEncoder object\n",
    "habit_encoder = LabelEncoder()\n",
    "\n",
    "# fit the encoder on the drinks and drugs columns\n",
    "habit_encoder.fit(tinder_df[['drinks', 'drugs']]\n",
    "\t\t\t\t.values.reshape(-1))\n",
    "\n",
    "# encode the drinks and drugs columns\n",
    "# using the fitted encoder\n",
    "tinder_df['drinks_encoded'] = \\\n",
    "\thabit_encoder.transform(tinder_df['drinks'])\n",
    "tinder_df['drugs_encoded'] = \\\n",
    "\thabit_encoder.transform(tinder_df['drugs'])\n",
    "\n",
    "# Drop the existing drink and drugs column\n",
    "tinder_df.drop([\"drinks\", \"drugs\"], axis=1,\n",
    "\t\t\tinplace=True)\n"
   ]
  },
  {
   "cell_type": "code",
   "execution_count": 18,
   "id": "4f8a0e5d",
   "metadata": {},
   "outputs": [],
   "source": [
    "from sklearn.preprocessing import OneHotEncoder"
   ]
  },
  {
   "cell_type": "code",
   "execution_count": 19,
   "id": "3e49612a",
   "metadata": {},
   "outputs": [],
   "source": [
    "region_dict = {'southern_california': ['los angeles',\n",
    "\t\t\t\t\t\t'san diego', 'hacienda heights',\n",
    "\t\t\t\t\t\t'north hollywood', 'phoenix'],\n",
    "\t\t\t'new_york': ['brooklyn',\n",
    "\t\t\t\t\t\t\t'new york']}\n",
    "\n",
    "def get_region(city):\n",
    "\tfor region, cities in region_dict.items():\n",
    "\t\tif city.lower() in [c.lower() for c in cities]:\n",
    "\t\t\treturn region\n",
    "\treturn \"northern_california\"\n",
    "\n",
    "\n",
    "tinder_df['location'] = tinder_df['location']\\\n",
    "\t\t.str.split(', ')\\\n",
    "\t\t.str[0].apply(get_region)\n",
    "# perform one hot encoding\n",
    "location_encoder = OneHotEncoder()\n",
    "\n",
    "# fit and transform the location column\n",
    "location_encoded = location_encoder.fit_transform\\\n",
    "\t\t\t\t\t(tinder_df[['location']])\n",
    "\n",
    "# create a new DataFrame with the encoded columns\n",
    "location_encoded_df = pd.DataFrame(location_encoded.toarray()\\\n",
    "\t\t\t\t\t\t, columns=location_encoder.\\\n",
    "\t\t\t\t\t\tget_feature_names_out(['location']))\n",
    "\n",
    "# concatenate the new DataFrame with the original DataFrame\n",
    "tinder_df = pd.concat([tinder_df, location_encoded_df], axis=1)\n",
    "# Drop the existing location column\n",
    "tinder_df.drop([\"location\"], axis=1, inplace=True)\n"
   ]
  },
  {
   "cell_type": "code",
   "execution_count": 20,
   "id": "5499c2ad",
   "metadata": {},
   "outputs": [],
   "source": [
    "# create a LabelEncoder object\n",
    "job_encoder = LabelEncoder()\n",
    "\n",
    "# fit the encoder on the job column\n",
    "job_encoder.fit(tinder_df['job'])\n",
    "\n",
    "# encode the job column using the fitted encoder\n",
    "tinder_df['job_encoded'] = job_encoder.\\\n",
    "\ttransform(tinder_df['job'])\n",
    "\n",
    "# drop the original job column\n",
    "tinder_df.drop('job', axis=1, inplace=True)\n"
   ]
  },
  {
   "cell_type": "code",
   "execution_count": 21,
   "id": "62d32633",
   "metadata": {},
   "outputs": [],
   "source": [
    "smokes = {\n",
    "'no': 1.0,\n",
    "'sometimes': 0,\n",
    "'yes': 0,\n",
    "'when drinking':0,\n",
    "'trying to quit':0\n",
    "}\n",
    "tinder_df['smokes'] = tinder_df['smokes']\\\n",
    "\t\t\t\t\t\t\t.apply(lambda x: smokes[x])\n"
   ]
  },
  {
   "cell_type": "code",
   "execution_count": 22,
   "id": "cc96180c",
   "metadata": {},
   "outputs": [],
   "source": [
    "bin_enc = ce.BinaryEncoder(cols=['pets'])\n",
    "\n",
    "# fit and transform the pet column\n",
    "pet_enc = bin_enc.fit_transform(tinder_df['pets'])\n",
    "\n",
    "# add the encoded columns to the original dataframe\n",
    "tinder_df = pd.concat([tinder_df, pet_enc], axis=1)\n",
    "\n",
    "tinder_df.drop(\"pets\",axis=1,inplace = True)\n"
   ]
  },
  {
   "cell_type": "code",
   "execution_count": 23,
   "id": "bca79ae2",
   "metadata": {},
   "outputs": [],
   "source": [
    "# create a LabelEncoder object\n",
    "location_encoder = LabelEncoder()\n",
    "\n",
    "# fit the encoder on the job column\n",
    "location_encoder.fit(tinder_df['new_languages'])\n",
    "\n",
    "# encode the job column using the fitted encoder\n",
    "tinder_df['new_languages'] = location_encoder.transform(\n",
    "\ttinder_df['new_languages'])\n",
    "\n",
    "# create an instance of LabelEncoder\n",
    "le = LabelEncoder()\n",
    "\n",
    "# encode the body_profile column\n",
    "tinder_df[\"body_profile\"] = le.fit_transform(tinder_df[\"body_profile\"])\n"
   ]
  },
  {
   "cell_type": "code",
   "execution_count": 24,
   "id": "a4852720",
   "metadata": {},
   "outputs": [],
   "source": [
    "# Initialize TfidfVectorizer object\n",
    "tfidf = TfidfVectorizer(stop_words='english')\n",
    "\n",
    "# Fit and transform the text data\n",
    "tfidf_matrix = tfidf.fit_transform(tinder_df['bio'])\n",
    "\n",
    "# Get the feature names from the TfidfVectorizer object\n",
    "feature_names = tfidf.vocabulary_\n",
    "\n",
    "# Convert tfidf matrix to DataFrame\n",
    "tfidf_df = pd.DataFrame(tfidf_matrix.toarray(),\n",
    "\t\t\t\t\t\tcolumns=feature_names)\n",
    "\n",
    "# Add non-text features to the tfidf_df dataframe\n",
    "tinder_dfs = tinder_df.drop([\"bio\", \"user_id\",\n",
    "\t\t\t\t\t\t\t\"username\"], axis=1)\n",
    "tinder_dfs = pd.concat([tinder_dfs,\n",
    "\t\t\t\t\t\ttfidf_df], axis=1)\n",
    "# Apply SVD to the feature matrix\n",
    "svd = TruncatedSVD(n_components=100)\n",
    "svd_matrix = svd.fit_transform(tinder_dfs)\n",
    "\n",
    "# Calculate the cosine similarity\n",
    "# between all pairs of users\n",
    "cosine_sim = cosine_similarity(svd_matrix)\n"
   ]
  },
  {
   "cell_type": "code",
   "execution_count": 25,
   "id": "0cdeb45e",
   "metadata": {},
   "outputs": [],
   "source": [
    "def recommend(user_df, num_recommendations=5):\n",
    "\n",
    "\t# Apply SVD to the feature\n",
    "\t# matrix of the user_df dataframe\n",
    "\tsvd_matrixs = svd.transform(user_df)\n",
    "\n",
    "\t# Calculate the cosine similarity\n",
    "\t# between the user_df and training set users\n",
    "\tcosine_sim_new = cosine_similarity(svd_matrixs, svd_matrix)\n",
    "\n",
    "\t# Get the indices of the top\n",
    "\t# num_recommendations similar users\n",
    "\tsim_scores = list(enumerate(cosine_sim_new[0]))\n",
    "\tsim_scores = sorted(sim_scores,\n",
    "\t\t\t\t\t\tkey=lambda x: x[1], reverse=True)\n",
    "\tsim_indices = [i[0] for i in\n",
    "\t\t\t\tsim_scores[1:num_recommendations+1]]\n",
    "\n",
    "\t# Return the user_ids of the recommended users\n",
    "\treturn tinder_df['username'].iloc[sim_indices]\n"
   ]
  },
  {
   "cell_type": "code",
   "execution_count": null,
   "id": "bf868add",
   "metadata": {},
   "outputs": [
    {
     "name": "stdout",
     "output_type": "stream",
     "text": [
      "Enter age: 23\n",
      "Enter status: 2\n",
      "Enter sex \t\t\t(0 for female, 1 for male): 0\n"
     ]
    }
   ],
   "source": [
    "user_df = {}\n",
    "\n",
    "# Get user input for numerical columns\n",
    "user_df['age'] = float(input(\"Enter age: \"))\n",
    "user_df['status'] = float(input(\"Enter status: \"))\n",
    "user_df['sex'] = float(input(\"Enter sex \\\n",
    "\t\t\t(0 for female, 1 for male): \"))\n",
    "user_df['height'] = float(input(\"Enter \\\n",
    "\t\t\t\theight in inches: \"))\n",
    "user_df['smokes'] = float(input(\"Enter smokes\\\n",
    "\t\t\t\t(0 for no, 1 for yes): \"))\n",
    "user_df['new_languages'] = float(\n",
    "\tinput(\"Enter number of new \\\n",
    "\t\tlanguages learned: \"))\n",
    "user_df['body_profile'] = float(input(\"Enter body \\\n",
    "\t\t\tprofile (0-1)\"))\n",
    "user_df['education_level'] = float(input(\"Enter \\\n",
    "\t\t\teducation level (1-5): \"))\n",
    "user_df['dropped_out'] = float(\n",
    "\tinput(\"Enter dropped out (0 for no, 1 for yes): \"))\n",
    "user_df['bio'] = [input(\"Enter bio: \")]\n",
    "user_df['location_preference'] = float(\n",
    "\tinput(\"Enter location preference (0-2): \"))\n",
    "user_df['num_languages'] = float(input(\"\\\n",
    "\t\t\tEnter number of languages known: \"))\n",
    "user_df['drinks_encoded'] = float(input(\"\\\n",
    "\t\t\tEnter drinks encoded (0-3): \"))\n",
    "user_df['drugs_encoded'] = float(input(\"\\\n",
    "\t\t\t\tEnter drugs encoded (0-2): \"))\n",
    "\n",
    "# Get user input for one-hot encoded categorical columns\n",
    "user_df['location_new_york'] = float(\n",
    "\tinput(\"Enter location_new_york (0 or 1): \"))\n",
    "user_df['location_northern_california'] = float(\n",
    "\tinput(\"Enter location_northern_california (0 or 1): \"))\n",
    "user_df['location_southern_california'] = float(\n",
    "\tinput(\"Enter location_southern_california (0 or 1): \"))\n",
    "user_df['job_encoded'] = float(input(\"\\\n",
    "\t\t\tEnter job encoded (0-9): \"))\n",
    "user_df['pets_0'] = float(input(\"\\\n",
    "\t\t\t\tEnter pets_0 (0 or 1): \"))\n",
    "user_df['pets_1'] = float(input(\"\\\n",
    "\t\t\t\tEnter pets_1 (0 or 1): \"))\n",
    "user_df['pets_2'] = float(input(\"\\\n",
    "\t\t\tEnter pets_2 (0 or 1): \"))\n",
    "user_df['pets_3'] = float(input(\"\\\n",
    "\t\t\t\tEnter pets_3 (0 or 1): \"))\n",
    "\n",
    "# Convert tfidf matrix to DataFrame\n",
    "tfidf_df = pd.DataFrame(tfidf.transform(\n",
    "\tuser_df['bio']).toarray(), columns=feature_names)\n",
    "\n",
    "# Convert the user input\n",
    "# dictionary to a Pandas DataFrame\n",
    "user_df = pd.DataFrame(user_df, index=[0])\n",
    "user_df.drop(\"bio\", axis=1, inplace=True)\n",
    "user_df = pd.concat([user_df, tfidf_df], axis=1)\n"
   ]
  },
  {
   "cell_type": "code",
   "execution_count": null,
   "id": "dabdeda1",
   "metadata": {},
   "outputs": [],
   "source": []
  },
  {
   "cell_type": "code",
   "execution_count": null,
   "id": "646f9b53",
   "metadata": {},
   "outputs": [],
   "source": []
  }
 ],
 "metadata": {
  "kernelspec": {
   "display_name": "Python 3 (ipykernel)",
   "language": "python",
   "name": "python3"
  },
  "language_info": {
   "codemirror_mode": {
    "name": "ipython",
    "version": 3
   },
   "file_extension": ".py",
   "mimetype": "text/x-python",
   "name": "python",
   "nbconvert_exporter": "python",
   "pygments_lexer": "ipython3",
   "version": "3.9.12"
  }
 },
 "nbformat": 4,
 "nbformat_minor": 5
}
